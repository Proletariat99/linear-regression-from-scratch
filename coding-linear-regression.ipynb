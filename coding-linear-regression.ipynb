{
 "cells": [
  {
   "cell_type": "markdown",
   "metadata": {},
   "source": [
    "<img src=\"http://imgur.com/1ZcRyrc.png\" style=\"float: left; margin: 20px; height: 55px\">\n",
    "\n",
    "# Simple and Multiple Linear Regression from Scratch\n",
    "\n",
    "_Authors: Kiefer Katovich (SF) and Matt Brems (DC)_\n",
    "\n",
    "---\n",
    "\n",
    "### Learning Objectives\n",
    "- Code simple linear regression from scratch using a simple housing price dataset\n",
    "- Understand and code the loss function MSE in regression\n",
    "- Write functions to calculate the R^2 metric\n",
    "- Understand what R^2 represents\n",
    "- Plot the regression line and predictions against the true values\n",
    "- Understand the difference between multiple linear regression and simple linear regression\n",
    "- Derive the beta coefficients in MLR using linear algebra\n",
    "- Construct an MLR, calculate the coefficients manually, and evaluate the R^2"
   ]
  },
  {
   "cell_type": "markdown",
   "metadata": {},
   "source": [
    "### Lesson Guide\n",
    "- [Load the real estate data](#load-data)\n",
    "- [Build a simple linear regression](#build-slr)\n",
    "    - [Define the target and predictor variables](#target-predictor)\n",
    "    - [Code prediction function](#pred-func)\n",
    "    - [Code regression plotting function](#plot-regline)\n",
    "    - [Code function to calculate residuals](#calc-resids)\n",
    "    - [Code function to calculate SSE](#calc-sse)\n",
    "    - [Minimize the SSE](#minimize-sse)\n",
    "- [R2: the coefficient of determination](#r2)\n",
    "- [From SLR to MLR](#slr-to-mlr)\n",
    "- [Assumptions of MLR](#assumptions)\n",
    "- [Fitting a MLR](#fit-mlr)\n",
    "    - [Deriving the MLR coefficients with linear algebra](#mlr-beta-derivation)\n",
    "    - [Code the MLR fit](#code-mlr)\n",
    "    "
   ]
  },
  {
   "cell_type": "code",
   "execution_count": 1,
   "metadata": {
    "collapsed": true
   },
   "outputs": [],
   "source": [
    "import pandas as pd\n",
    "import numpy as np\n",
    "import matplotlib\n",
    "import matplotlib.pyplot as plt\n",
    "import seaborn as sns\n",
    "\n",
    "sns.set_style('darkgrid')\n",
    "#%config InlineBackend.figure_format = 'retina'\n",
    "%matplotlib inline"
   ]
  },
  {
   "cell_type": "markdown",
   "metadata": {},
   "source": [
    "<a id='load-data'></a>\n",
    "\n",
    "## Load the real estate data\n",
    "\n",
    "---\n",
    "\n",
    "Over the course of this lesson we will be constructing a simple linear regression and then extend this to multiple linear regression. Included in the datasets folder is a very simple dataset on real estate prices.\n",
    "\n",
    "**Load the data using pandas.**"
   ]
  },
  {
   "cell_type": "code",
   "execution_count": 3,
   "metadata": {},
   "outputs": [
    {
     "data": {
      "text/html": [
       "<div>\n",
       "<table border=\"1\" class=\"dataframe\">\n",
       "  <thead>\n",
       "    <tr style=\"text-align: right;\">\n",
       "      <th></th>\n",
       "      <th>sqft</th>\n",
       "      <th>bdrms</th>\n",
       "      <th>age</th>\n",
       "      <th>price</th>\n",
       "    </tr>\n",
       "  </thead>\n",
       "  <tbody>\n",
       "    <tr>\n",
       "      <th>0</th>\n",
       "      <td>2104</td>\n",
       "      <td>3</td>\n",
       "      <td>70</td>\n",
       "      <td>399900</td>\n",
       "    </tr>\n",
       "    <tr>\n",
       "      <th>1</th>\n",
       "      <td>1600</td>\n",
       "      <td>3</td>\n",
       "      <td>28</td>\n",
       "      <td>329900</td>\n",
       "    </tr>\n",
       "    <tr>\n",
       "      <th>2</th>\n",
       "      <td>2400</td>\n",
       "      <td>3</td>\n",
       "      <td>44</td>\n",
       "      <td>369000</td>\n",
       "    </tr>\n",
       "    <tr>\n",
       "      <th>3</th>\n",
       "      <td>1416</td>\n",
       "      <td>2</td>\n",
       "      <td>49</td>\n",
       "      <td>232000</td>\n",
       "    </tr>\n",
       "    <tr>\n",
       "      <th>4</th>\n",
       "      <td>3000</td>\n",
       "      <td>4</td>\n",
       "      <td>75</td>\n",
       "      <td>539900</td>\n",
       "    </tr>\n",
       "  </tbody>\n",
       "</table>\n",
       "</div>"
      ],
      "text/plain": [
       "   sqft  bdrms  age   price\n",
       "0  2104      3   70  399900\n",
       "1  1600      3   28  329900\n",
       "2  2400      3   44  369000\n",
       "3  1416      2   49  232000\n",
       "4  3000      4   75  539900"
      ]
     },
     "execution_count": 3,
     "metadata": {},
     "output_type": "execute_result"
    }
   ],
   "source": [
    "house_csv = './datasets/housing-data.csv'\n",
    "\n",
    "# load data with pandas\n",
    "house_df = pd.read_csv(house_csv)\n",
    "house_df.head()"
   ]
  },
  {
   "cell_type": "markdown",
   "metadata": {},
   "source": [
    "The columns are:\n",
    "\n",
    "    sqft: the size of the house in sq. ft\n",
    "    bdrms: number of bedrooms\n",
    "    age: age in years of house\n",
    "    price: the price of the house\n",
    "    \n",
    "**Convert `price` to be in units of 1000 (thousands of dollars).**"
   ]
  },
  {
   "cell_type": "code",
   "execution_count": 4,
   "metadata": {},
   "outputs": [
    {
     "data": {
      "text/html": [
       "<div>\n",
       "<table border=\"1\" class=\"dataframe\">\n",
       "  <thead>\n",
       "    <tr style=\"text-align: right;\">\n",
       "      <th></th>\n",
       "      <th>sqft</th>\n",
       "      <th>bdrms</th>\n",
       "      <th>age</th>\n",
       "      <th>price</th>\n",
       "    </tr>\n",
       "  </thead>\n",
       "  <tbody>\n",
       "    <tr>\n",
       "      <th>0</th>\n",
       "      <td>2104</td>\n",
       "      <td>3</td>\n",
       "      <td>70</td>\n",
       "      <td>399.9</td>\n",
       "    </tr>\n",
       "    <tr>\n",
       "      <th>1</th>\n",
       "      <td>1600</td>\n",
       "      <td>3</td>\n",
       "      <td>28</td>\n",
       "      <td>329.9</td>\n",
       "    </tr>\n",
       "    <tr>\n",
       "      <th>2</th>\n",
       "      <td>2400</td>\n",
       "      <td>3</td>\n",
       "      <td>44</td>\n",
       "      <td>369.0</td>\n",
       "    </tr>\n",
       "    <tr>\n",
       "      <th>3</th>\n",
       "      <td>1416</td>\n",
       "      <td>2</td>\n",
       "      <td>49</td>\n",
       "      <td>232.0</td>\n",
       "    </tr>\n",
       "    <tr>\n",
       "      <th>4</th>\n",
       "      <td>3000</td>\n",
       "      <td>4</td>\n",
       "      <td>75</td>\n",
       "      <td>539.9</td>\n",
       "    </tr>\n",
       "  </tbody>\n",
       "</table>\n",
       "</div>"
      ],
      "text/plain": [
       "   sqft  bdrms  age  price\n",
       "0  2104      3   70  399.9\n",
       "1  1600      3   28  329.9\n",
       "2  2400      3   44  369.0\n",
       "3  1416      2   49  232.0\n",
       "4  3000      4   75  539.9"
      ]
     },
     "execution_count": 4,
     "metadata": {},
     "output_type": "execute_result"
    }
   ],
   "source": [
    "# transform price to new units\n",
    "house_df['price'] = house_df['price'] / 1000\n",
    "house_df.head()"
   ]
  },
  {
   "cell_type": "markdown",
   "metadata": {},
   "source": [
    "<a id='build-slr'></a>\n",
    "\n",
    "## Build a SLR: estimating `price` with `sqft`\n",
    "\n",
    "---\n",
    "\n",
    "We will start by constructing the simple linear regression. Below is the formulation for the SLR and our specific model of interest:\n",
    "\n",
    "### $$ y = \\beta_0 + \\beta_1 x + \\epsilon \\\\\n",
    "\\text{price} = \\beta_0 + \\beta_1 \\text{sqft} + \\epsilon$$\n",
    "\n",
    "> $\\beta_0$: the intercept\n",
    "\n",
    "Without the intercept term the regression line would always have to pass through the origin, which is almost never an optimal way to represent the relationship between our target and predictor variable.\n",
    "\n",
    "> $\\beta_1$: the coefficient on $x$ \n",
    "\n",
    "We intend to estimate the values of $y$ from $x$. Each value of $x$ is multiplied by the same coefficient, which is why linear regression models model a _linear_ relationship between our predictor and target variable.\n",
    "\n",
    "Recall that a 1 unit increase in $x$ will correspond to a $\\beta_1$ unit increase in $y$ according to our model.\n",
    "\n",
    "> $\\epsilon_1$: the error (residuals)\n",
    "\n",
    "This is the difference between the predicted and true values that are unexplained by $x$ in the regression.\n",
    "\n",
    "---\n",
    "\n",
    "<a id='target-predictor'></a>\n",
    "\n",
    "### Define the target and predictor variables\n",
    "\n",
    "Extract the target variable and predictor variable from our pandas dataframe. Classically, target and predictor are referred to dependent and independent variables. There are many different terms for what $x$ and $y$ represent."
   ]
  },
  {
   "cell_type": "code",
   "execution_count": 7,
   "metadata": {},
   "outputs": [
    {
     "name": "stdout",
     "output_type": "stream",
     "text": [
      "<class 'numpy.ndarray'> (47,)\n",
      "<class 'numpy.ndarray'> (47,)\n"
     ]
    }
   ],
   "source": [
    "# define predictor and target as variables\n",
    "# .values changes from a series to a numpy array\n",
    "X = house_df['sqft'].values\n",
    "y = house_df['price'].values\n",
    "for var in [X,y]:\n",
    "    print(type(var), var.shape)"
   ]
  },
  {
   "cell_type": "markdown",
   "metadata": {},
   "source": [
    "<a id='pred-func'></a>\n",
    "\n",
    "### Build a function to predict $\\hat{y}$ given $x$\n",
    "\n",
    "Build a function to represent the formula below:\n",
    "\n",
    "### $$\\hat{y} = \\beta_0 + \\beta_1 x$$\n",
    "\n",
    "**Note:** I have removed the error term from the equation. Obviously we do not know the error or we would be able to model $y$ perfectly. We can assume that our prediction $\\hat{y}$ is an imperfect estimation of $y$.\n",
    "\n",
    "**HINT:** Your function should accept arguments for:\n",
    "*  $\\beta_0$\n",
    "*  $\\beta_1$\n",
    "*  $x$"
   ]
  },
  {
   "cell_type": "code",
   "execution_count": 8,
   "metadata": {
    "collapsed": true
   },
   "outputs": [],
   "source": [
    "# function to calculate yhat\n",
    "def predict_from_betas(beta0, beta1, ind_var):\n",
    "    return beta0 + beta1 * ind_var"
   ]
  },
  {
   "cell_type": "markdown",
   "metadata": {},
   "source": [
    "<a id='plot-regline'></a>\n",
    "\n",
    "### Write a function to plot a regression line\n",
    "\n",
    "Your function should:\n",
    "- Accept $\\beta_0$, $\\beta_1$, $x$, and $y$ as arguments\n",
    "- Calculate the predicted values $\\hat{y}$ given $x$ (using the function you wrote above)\n",
    "- Plot the original points\n",
    "- Plot the predicted points (in a different color)\n",
    "- Plot the regression line defined by the slope and intercept\n",
    "\n",
    "\n"
   ]
  },
  {
   "cell_type": "code",
   "execution_count": 13,
   "metadata": {
    "collapsed": true
   },
   "outputs": [],
   "source": [
    "# function to plot regression\n",
    "def plot_regression_line(b0, b1, ind_var, dep_var):\n",
    "    '''\n",
    "    ind_var and dep_var are both vectors\n",
    "    b0 and b1 are the intercept and coefficient, respectively\n",
    "    '''\n",
    "    yhat_vec = np.array([predict_from_betas(b0, b1, x) for x in ind_var])\n",
    "    plt.figure(figsize=(10,8))\n",
    "    plt.scatter(ind_var, dep_var, c='red', s=30, label='original values')\n",
    "    plt.scatter(ind_var, yhat_vec, c= 'blue', s=30, label = 'predicted values')\n",
    "    plt.plot(ind_var, yhat_vec, c='green', label='regression line')\n",
    "    plt.xlabel('X')\n",
    "    plt.ylabel('y')\n",
    "    plt.legend()\n",
    "    plt.show()\n",
    "    return yhat_vec"
   ]
  },
  {
   "cell_type": "markdown",
   "metadata": {},
   "source": [
    "**Use your function with $\\beta_0 = 0$ and $\\beta_1 = 1$.**"
   ]
  },
  {
   "cell_type": "code",
   "execution_count": 14,
   "metadata": {},
   "outputs": [
    {
     "data": {
      "image/png": "[encoded data removed]",
      "text/plain": [
       "<matplotlib.figure.Figure at 0x7fef1b351b70>"
      ]
     },
     "metadata": {},
     "output_type": "display_data"
    }
   ],
   "source": [
    "# plot the regression\n",
    "naive_yhat = plot_regression_line(0, 1, X, y)"
   ]
  },
  {
   "cell_type": "markdown",
   "metadata": {},
   "source": [
    "<a id='calc-resids'></a>\n",
    "\n",
    "### Write a function to calculate residuals\n",
    "\n",
    "Recall that the residuals are simply the error of the model:\n",
    "\n",
    "### $$ \\text{residual}_i = y_i - \\hat{y}_i$$\n",
    "\n",
    "Where $y_i$ is the true value of our target at this observation $i$, and $\\hat{y}_i$ is the predicted value of our target. Simple enough. "
   ]
  },
  {
   "cell_type": "code",
   "execution_count": 20,
   "metadata": {
    "collapsed": true
   },
   "outputs": [],
   "source": [
    "# function to calculate residuals\n",
    "\n",
    "def calc_residuals(yhat,y):\n",
    "    return yhat-y"
   ]
  },
  {
   "cell_type": "code",
   "execution_count": 21,
   "metadata": {
    "collapsed": true
   },
   "outputs": [],
   "source": [
    "naive_residuals = calc_residuals(naive_yhat,y)"
   ]
  },
  {
   "cell_type": "markdown",
   "metadata": {},
   "source": [
    "<a id='calc-sse'></a>\n",
    "\n",
    "### Write a function to calculate the sum of squared errors (SSE)\n",
    "\n",
    "Simple linear regression can use \"ordinary least squares\" method for identifying linear relations between variables. Here the [\"least squares\"](https://www.mathworks.com/help/optim/ug/least-squares-model-fitting-algorithms.html) means that it _minimizes the sum of the squared residuals._\n",
    "\n",
    "\n",
    "> **Aside:** Why the squared residuals instead of just the absolute value of the residuals? Well, both can be used – absolute value of residuals is often used when there are large outliers or other abnormalities in variables. [Solving for the least absolute deviations (LAD)](https://en.wikipedia.org/wiki/Least_absolute_deviations) is a type of \"robust\" regression.\n"
   ]
  },
  {
   "cell_type": "markdown",
   "metadata": {},
   "source": [
    "$$\n",
    "\\text{SSE} = \\sum_{i=1}^{n}(\\widehat{y}_i-y_i)^2\n",
    "$$"
   ]
  },
  {
   "cell_type": "code",
   "execution_count": 26,
   "metadata": {},
   "outputs": [
    {
     "data": {
      "text/plain": [
       "151509353.47200701"
      ]
     },
     "execution_count": 26,
     "metadata": {},
     "output_type": "execute_result"
    }
   ],
   "source": [
    "sum(np.square(naive_residuals))"
   ]
  },
  {
   "cell_type": "code",
   "execution_count": 27,
   "metadata": {
    "collapsed": true
   },
   "outputs": [],
   "source": [
    "# function to calculate SSE\n",
    "def calc_sse(yhat,y):\n",
    "    return sum(np.square(calc_residuals(yhat,y)))"
   ]
  },
  {
   "cell_type": "markdown",
   "metadata": {},
   "source": [
    "**Calculate the sum of squared errors from your initial regression with $\\beta_0 = 0$ and $\\beta_1 = 1$ using the functions we defined earlier.**\n"
   ]
  },
  {
   "cell_type": "code",
   "execution_count": 28,
   "metadata": {},
   "outputs": [
    {
     "data": {
      "text/plain": [
       "151509353.47200701"
      ]
     },
     "execution_count": 28,
     "metadata": {},
     "output_type": "execute_result"
    }
   ],
   "source": [
    "# calculate SSE\n",
    "naive_sse = calc_sse(naive_yhat,y)\n",
    "naive_sse"
   ]
  },
  {
   "cell_type": "markdown",
   "metadata": {},
   "source": [
    "**Choose a new $\\beta_0$ and $\\beta_1$ you think might be better, and calculate the SSE.**"
   ]
  },
  {
   "cell_type": "code",
   "execution_count": 39,
   "metadata": {},
   "outputs": [
    {
     "data": {
      "image/png": "[encoded data removed]",
      "text/plain": [
       "<matplotlib.figure.Figure at 0x7fef1b72c048>"
      ]
     },
     "metadata": {},
     "output_type": "display_data"
    },
    {
     "data": {
      "text/plain": [
       "194815.547643"
      ]
     },
     "execution_count": 39,
     "metadata": {},
     "output_type": "execute_result"
    }
   ],
   "source": [
    "# plot new regression, calculate new SSE\n",
    "guess_yhat = plot_regression_line(60,.141,X,y)\n",
    "calc_sse(guess_yhat,y)"
   ]
  },
  {
   "cell_type": "markdown",
   "metadata": {},
   "source": [
    "<a id='minimize-sse'></a>\n",
    "\n",
    "### Minimizing the sum of squared errors\n",
    "\n",
    "Deriving the equation that minimizes the sum of squared errors in simple linear regression can be done using calculus. [See here](http://web.cocc.edu/srule/MTH244/other/LRJ.PDF) or [here](https://en.wikipedia.org/wiki/Simple_linear_regression) for descriptions of the derivation.\n",
    "\n",
    "For those familiar with calculus: **set the derivative of the loss function to 0 and solve for $\\beta_0$ and $\\beta_1$.** The loss function is \"convex\" and therefore it is at its minimum where the derivative is 0. Solving involves taking the partial derivatives for $\\beta_0$ and $\\beta_1$. \n",
    "\n",
    "The equations for the $\\beta_0$ and $\\beta_1$ that minimize the sum of squares are:\n",
    "\n",
    "### $$ \\beta_1 = \\frac{\\sum_{i=1}^n (y_i - \\bar{y} ) (x_i - \\bar{x} )}{\\sum_{i=1}^n (x_i - \\bar{x})^2} $$\n",
    "\n",
    "and\n",
    "\n",
    "### $$ \\beta_0 = \\bar{y} - \\beta_1\\bar{x} $$\n",
    "\n",
    "where $\\bar{x}$ and $\\bar{y}$ are the sample means of $x$ and $y$, respectively.\n",
    "\n",
    "#### Write functions below to calculate $\\beta_0$ and $\\beta_1$ based on these equations."
   ]
  },
  {
   "cell_type": "code",
   "execution_count": 43,
   "metadata": {},
   "outputs": [
    {
     "data": {
      "text/plain": [
       "3908145.8198936172"
      ]
     },
     "execution_count": 43,
     "metadata": {},
     "output_type": "execute_result"
    }
   ],
   "source": [
    "xmean = np.mean(X)\n",
    "ymean = np.mean(y)\n",
    "sum((X - xmean) * (y - ymean))"
   ]
  },
  {
   "cell_type": "code",
   "execution_count": 59,
   "metadata": {
    "collapsed": true
   },
   "outputs": [],
   "source": [
    "# function to calculate betas\n",
    "def calc_betas(X, y):\n",
    "    '''\n",
    "    returns beta1 (slope) and beta0 (y-intercept), respectively\n",
    "    \n",
    "    Parameters\n",
    "    ----------\n",
    "    X: array of x-values\n",
    "    y: array of y-values\n",
    "    \n",
    "    --------------------\n",
    "\n",
    "    '''\n",
    "    beta1 = sum((X - X.mean()) * (y - y.mean())) / sum((X - X.mean())**2)\n",
    "    beta0 = y.mean() - beta1 * X.mean()\n",
    "    return beta1, beta0"
   ]
  },
  {
   "cell_type": "markdown",
   "metadata": {},
   "source": [
    "**Calculate the optimal $\\beta_1$ and $\\beta_0$ using your functions.**"
   ]
  },
  {
   "cell_type": "code",
   "execution_count": 52,
   "metadata": {},
   "outputs": [
    {
     "data": {
      "text/plain": [
       "(0.13452528772024136, 71.270492448729044)"
      ]
     },
     "execution_count": 52,
     "metadata": {},
     "output_type": "execute_result"
    }
   ],
   "source": [
    "# calculate betas\n",
    "b1, b0 = calc_betas(X,y)\n",
    "b1, b0"
   ]
  },
  {
   "cell_type": "markdown",
   "metadata": {},
   "source": [
    "**Plot the regression with the optimal betas and calculate the SSE.**"
   ]
  },
  {
   "cell_type": "code",
   "execution_count": 53,
   "metadata": {},
   "outputs": [
    {
     "data": {
      "image/png": "[encoded data removed]",
      "text/plain": [
       "<matplotlib.figure.Figure at 0x7fef1b17f828>"
      ]
     },
     "metadata": {},
     "output_type": "display_data"
    },
    {
     "data": {
      "text/plain": [
       "193464.4776007059"
      ]
     },
     "execution_count": 53,
     "metadata": {},
     "output_type": "execute_result"
    }
   ],
   "source": [
    "# plot best fit regression\n",
    "best_yhat = plot_regression_line(b0, b1, X, y)\n",
    "calc_sse(best_yhat,y)"
   ]
  },
  {
   "cell_type": "markdown",
   "metadata": {},
   "source": [
    "<a id='r2'></a>\n",
    "\n",
    "## $R^2$: the \"coefficient of determination\"\n",
    "\n",
    "---\n",
    "\n",
    "> **$R^2$ is the amount of variance explained above baseline in your target $y$ by predictor $x$**.\n",
    "\n",
    "It is comprised of two parts: the **total sum of squares** and the **residual sum of squares**.\n",
    "\n",
    "The total sum of squares is defined:\n",
    "\n",
    "### $$ SS_{tot} = \\sum_{i=1}^n \\left(y_i - \\bar{y}\\right)^2 $$\n",
    "\n",
    "The residual sum of squares you are already familiar with. It is defined:\n",
    "\n",
    "### $$ SS_{res} = \\sum_{i=1}^n \\left(y_i - \\hat{y}_i\\right)^2 $$\n",
    "\n",
    "$R^2$ is then calculated:\n",
    "\n",
    "### $$ R^2 = 1 - \\frac{SS_{res}}{SS_{tot}} $$\n",
    "\n",
    "The total sum of squares is the **baseline model**: the amount of variance in $y$ we would explain if we were to predict each point of $y$ with just the mean of $y$, $\\bar{y}$.\n",
    "\n",
    "This is equivalent to estimating $y$ by fitting a regression with nothing but the intercept term $\\beta_0$, which becomes the mean of $y$ (the best possible estimator of $y$ using a single value):\n",
    "\n",
    "### $$ \\hat{y} = \\beta_0 = \\bar{y} $$\n"
   ]
  },
  {
   "cell_type": "markdown",
   "metadata": {},
   "source": [
    "As the quotient of the the $SS_{res}$ and $SS_{tot}$ decreases, the $R^2$ value gets closer to 1. While the maximum $R^2$ is 1, an $R^2$ can be infinitely negative as well.  Having a negative $R^2$ indicates that your predictive equation has greater error than the baseline mode.  \n",
    "\n",
    "_In other words, your equation is worse at representing the relationship than a horozontal line through the Y intercept._"
   ]
  },
  {
   "cell_type": "markdown",
   "metadata": {},
   "source": [
    "#### Plot your regression again, with a new regression line representing the baseline model."
   ]
  },
  {
   "cell_type": "code",
   "execution_count": 15,
   "metadata": {
    "collapsed": true
   },
   "outputs": [],
   "source": [
    "# plot regression with baseline model\n"
   ]
  },
  {
   "cell_type": "markdown",
   "metadata": {},
   "source": [
    "**Calculate the SSE for the baseline model and for the model with predictor `sqft`.**"
   ]
  },
  {
   "cell_type": "code",
   "execution_count": 16,
   "metadata": {
    "collapsed": true
   },
   "outputs": [],
   "source": [
    "# calculate the SSE for model and baseline model"
   ]
  },
  {
   "cell_type": "markdown",
   "metadata": {},
   "source": [
    "#### Write a function to calculate $R^2$. Print out the $R^2$ of your model."
   ]
  },
  {
   "cell_type": "code",
   "execution_count": 61,
   "metadata": {},
   "outputs": [
    {
     "data": {
      "text/plain": [
       "array([ 354.31169781,  286.5109528 ,  394.13118298,  261.75829986,\n",
       "        474.84635561,  338.30318857,  277.63228381,  263.23807803,\n",
       "        256.9153895 ,  272.2512723 ,  332.24955063,  340.32106789,\n",
       "        325.52328624,  673.67473086,  241.84855728,  380.67865421,\n",
       "        248.84387224,  237.54374807,  422.24696811,  479.01663953,\n",
       "        308.97667585,  325.25423566,  287.04905395,  335.20910696,\n",
       "        594.57386168,  219.24830894,  267.40836194,  411.08136923,\n",
       "        367.22612543,  426.01367617,  318.66249657,  205.79578017,\n",
       "        345.7020794 ,  493.27632003,  314.89578851,  264.5833309 ,\n",
       "        237.94732393,  358.07840587,  638.29458019,  362.1141645 ,\n",
       "        295.12057122,  372.33808637,  416.59690603,  232.70083771,\n",
       "        185.88603759,  320.41132531,  233.10441358])"
      ]
     },
     "execution_count": 61,
     "metadata": {},
     "output_type": "execute_result"
    }
   ],
   "source": []
  },
  {
   "cell_type": "code",
   "execution_count": 62,
   "metadata": {
    "collapsed": true
   },
   "outputs": [],
   "source": [
    "# calculate R2 for model\n",
    "def calc_r_squared(yhat,y):\n",
    "    return 1 - (calc_sse(yhat,y) / (sum((y - y.mean())**2)))"
   ]
  },
  {
   "cell_type": "code",
   "execution_count": 63,
   "metadata": {},
   "outputs": [
    {
     "data": {
      "text/plain": [
       "-209.66111609594515"
      ]
     },
     "execution_count": 63,
     "metadata": {},
     "output_type": "execute_result"
    }
   ],
   "source": [
    "calc_r_squared(naive_yhat,y)"
   ]
  },
  {
   "cell_type": "code",
   "execution_count": 64,
   "metadata": {},
   "outputs": [
    {
     "data": {
      "text/plain": [
       "0.73100378397553067"
      ]
     },
     "execution_count": 64,
     "metadata": {},
     "output_type": "execute_result"
    }
   ],
   "source": [
    "calc_r_squared(best_yhat,y)"
   ]
  },
  {
   "cell_type": "code",
   "execution_count": 69,
   "metadata": {},
   "outputs": [
    {
     "data": {
      "text/plain": [
       "719208.91847455327"
      ]
     },
     "execution_count": 69,
     "metadata": {},
     "output_type": "execute_result"
    }
   ],
   "source": [
    "sum((y - y.mean())**2)"
   ]
  },
  {
   "cell_type": "markdown",
   "metadata": {},
   "source": [
    "<a id='slr-to-mlr'></a>\n",
    "\n",
    "## From simple linear regression (SLR) to multiple linear regression (MLR)\n",
    "\n",
    "---\n",
    "\n",
    "The TL;DF of multiple linear regression:\n",
    "\n",
    "> Instead of using just one predictor to estimate a continuous target, we build a model with multiple predictor variables. You will be using MLR way more than SLR going forward.\n",
    "\n",
    "These variables will be represented as columns in a matrix (often a pandas dataframe).\n",
    "\n",
    "**Brainstorm some examples of real-world scenarios where multiple predictors would be beneficial. Can you think of cases where it might be detrimental?**"
   ]
  },
  {
   "cell_type": "code",
   "execution_count": 18,
   "metadata": {
    "collapsed": true
   },
   "outputs": [],
   "source": [
    "# A:"
   ]
  },
  {
   "cell_type": "markdown",
   "metadata": {},
   "source": [
    "<a id='assumptions'></a>\n",
    "\n",
    "## Assumptions of MLR\n",
    "\n",
    "---\n",
    "\n",
    "Like SLR, there are assumptions associated with MLR. Luckily, they're quite similar to the SLR assumptions.\n",
    "\n",
    "1. **Linearity:** $Y$ must have an approximately linear relationship with each independent $X_i$.\n",
    "2. **Independence:** Errors (residuals) $\\epsilon_i$ and $\\epsilon_j$ must be independent of one another for any $i \\ne j$.\n",
    "3. **Normality:** The errors (residuals) follow a Normal distribution.\n",
    "4. **Equality of Variances**: The errors (residuals) should have a roughly consistent pattern, regardless of the value of the $X_i$ predictors. (There should be no discernable relationship between the $X$ predictors and the residuals.)\n",
    "5. **Independence of Predictors**: The independent variables $X_i$ and $X_j$ must be independent of one another for any $i \\ne j$.\n",
    "\n",
    "The mnemonic LINEI is a useful way to remember these five assumptions. "
   ]
  },
  {
   "cell_type": "markdown",
   "metadata": {},
   "source": [
    "<a id='fit-mlr'></a>\n",
    "\n",
    "## Fitting a multiple linear regression\n",
    "\n",
    "---\n",
    "\n",
    "The formula for computing the $\\beta$ values in multiple regression is best done using linear algebra. We will cover the derivation, but for more depth  [these slides are a great resource](http://statweb.stanford.edu/~nzhang/191_web/lecture4_handout.pdf).\n",
    "\n",
    "$X$ is now a _matrix_ of predictors $x_1$ through $x_i$ (with each column a predictor), and $y$ is the target vector we are seeking to estimate. There is still only 1 *estimated* variable!\n",
    "\n",
    "### $$ \\hat{y} = \\beta X$$\n",
    "\n",
    "**Note:** $\\beta$ in the formula above is a *vector* of coefficients now, rather than a single value.\n",
    "\n",
    "In different notation we could write $\\hat{y}$ calculated with:\n",
    "\n",
    "### $$ \\hat{y} = \\beta_0 + \\beta_1 x_1 + \\beta_2 x_2 + ... + \\beta_n x_n $$\n",
    "\n",
    "---\n",
    "\n",
    "<a id='mlr-beta-derivation'></a>\n",
    "\n",
    "### Deriving the $\\beta$ coefficients\n",
    "\n",
    "$\\beta$ is solved with the linear algebra formula:\n",
    "\n",
    "### $$ \\beta = (X'X)^{-1}X'y $$\n",
    "\n",
    "Where $X'$ is the transposed matrix of original matrix $X$ and $(X'X)^-1$ is the inverted matrix of $X'X$.\n",
    "\n"
   ]
  },
  {
   "cell_type": "markdown",
   "metadata": {},
   "source": [
    "The equation using true $y$ is:\n",
    "\n",
    "### $$ y = \\beta X + \\epsilon $$\n",
    "\n",
    "Again, $\\epsilon$ is our vector of errors, or residuals.\n",
    "\n",
    "We can equivalently formulate this as in terms of the residuals:\n",
    "\n",
    "### $$ \\epsilon = \\beta X - y $$\n",
    "\n",
    "Our goal is to minimize the sum of squared residuals. The sum of squared residuals is equivalent to the dot product of the vector of residuals:\n",
    "\n",
    "### $$ \\sum_{i=1}^n \\epsilon_i^2 = \n",
    "\\left[\\begin{array}{cc}\n",
    "\\epsilon_1 \\cdots \\epsilon_n\n",
    "\\end{array}\\right] \n",
    "\\left[\\begin{array}{cc}\n",
    "\\epsilon_1 \\\\ \\cdots \\\\ \\epsilon_n\n",
    "\\end{array}\\right] = \\epsilon' \\epsilon\n",
    "$$\n",
    "\n",
    "Therefore we can write the sum of squared residuals as:\n",
    "\n",
    "### $$ \\epsilon' \\epsilon = (\\beta X - y)' (\\beta X - y) $$\n",
    "\n",
    "Which becomes:\n",
    "\n",
    "### $$ \\epsilon' \\epsilon = y'y - y'X\\beta - \\beta' X' y + \\beta' X' X \\beta $$\n",
    "\n",
    "Now take the derivative with respect to $\\beta$:\n",
    "\n",
    "### $$ \\frac{\\partial \\epsilon' \\epsilon}{\\partial \\beta} = \n",
    "-2X'y + 2X'X\\beta$$\n",
    "\n",
    "We want to minimize the sum of squared errors, and so we set the derivative to zero and solve for the beta coefficient vector:\n",
    "\n",
    "### $$ 0 = -2X'y + 2X'X\\beta \\\\\n",
    "X'X\\beta = X'y \\\\\n",
    "\\beta = (X'X)^{-1}X'y$$"
   ]
  },
  {
   "cell_type": "markdown",
   "metadata": {},
   "source": [
    "<a id='code-mlr'></a>\n",
    "\n",
    "### Code a MLR\n",
    "\n",
    "**First, we need to create the \"design matrix\" of our predictors.**\n",
    "\n",
    "The first column will be a column of all 1s (the intercept) and the other columns will be `sqft`, `bdrms`, and `age`.\n",
    "\n",
    "This is easiest to do with pandas: add a column for the intercept first, then extract the matrix using with `.values`."
   ]
  },
  {
   "cell_type": "code",
   "execution_count": 72,
   "metadata": {
    "collapsed": true
   },
   "outputs": [],
   "source": [
    "# set up X matrix\n",
    "X_matrix = house_df[['sqft', 'bdrms', 'age']].values"
   ]
  },
  {
   "cell_type": "code",
   "execution_count": 74,
   "metadata": {},
   "outputs": [
    {
     "data": {
      "text/plain": [
       "((47, 3), numpy.ndarray)"
      ]
     },
     "execution_count": 74,
     "metadata": {},
     "output_type": "execute_result"
    }
   ],
   "source": [
    "X_matrix.shape, type(X_matrix)"
   ]
  },
  {
   "cell_type": "markdown",
   "metadata": {},
   "source": [
    "### Solve for the beta coefficients\n",
    "\n",
    "We are still predicting `price`. Implement the linear algebra equation to solve for the beta coefficients. \n",
    "\n",
    "### $$ \\beta = (X'X)^{-1}X'y $$\n",
    "\n",
    "**Tips:**\n",
    "\n",
    "The transpose of a matrix is calculated by appending `.T` to the matrix:\n",
    "\n",
    "    X.T\n",
    "\n",
    "Matrices multipled in the formula should be done with the \"dot product\":\n",
    "\n",
    "    np.dot(mat1, mat2)\n",
    "\n",
    "Inverting a matrix is done using:\n",
    "\n",
    "    np.linalg.inv()"
   ]
  },
  {
   "cell_type": "code",
   "execution_count": 77,
   "metadata": {
    "collapsed": true
   },
   "outputs": [],
   "source": [
    "# need a column of 1's for beta0\n",
    "ones_array = np.ones((X_matrix.shape[0],1))"
   ]
  },
  {
   "cell_type": "code",
   "execution_count": 78,
   "metadata": {
    "collapsed": true
   },
   "outputs": [],
   "source": [
    "# concatenate two numpy arrays using np.c_\n",
    "X_with_bias = np.c_[ones_array, X_matrix]"
   ]
  },
  {
   "cell_type": "code",
   "execution_count": 79,
   "metadata": {
    "collapsed": true
   },
   "outputs": [],
   "source": [
    "inverse = np.linalg.inv"
   ]
  },
  {
   "cell_type": "code",
   "execution_count": 80,
   "metadata": {},
   "outputs": [
    {
     "data": {
      "text/plain": [
       "array([  9.24516278e+01,   1.39334847e-01,  -8.62147046e+00,\n",
       "        -8.12178776e-02])"
      ]
     },
     "execution_count": 80,
     "metadata": {},
     "output_type": "execute_result"
    }
   ],
   "source": [
    "# calculate beta vector (just following formula above)\n",
    "xtx = X_with_bias.T.dot(X_with_bias)\n",
    "xtxinv = inverse(xtx)\n",
    "xty = X_with_bias.T.dot(y)\n",
    "betas_vec = xtxinv.dot(xty)\n",
    "betas_vec"
   ]
  },
  {
   "cell_type": "markdown",
   "metadata": {},
   "source": [
    "**Confirm that these betas are the same as the ones using `sklearn.linear_model.LinearRegression`**\n",
    "\n",
    "```python\n",
    "from sklearn.linear_model import LinearRegression\n",
    "\n",
    "linreg = LinearRegression(fit_intercept=False) - Note: this gives 0 for beta0 (change it to True for intercept)\n",
    "linreg.fit(X, price)\n",
    "\n",
    "print linreg.coef_\n",
    "```"
   ]
  },
  {
   "cell_type": "code",
   "execution_count": 84,
   "metadata": {
    "collapsed": true
   },
   "outputs": [],
   "source": [
    "# validate beta vector is same as sklearn\n",
    "from sklearn.linear_model import LinearRegression\n",
    "linreg = LinearRegression(fit_intercept=True)"
   ]
  },
  {
   "cell_type": "code",
   "execution_count": 85,
   "metadata": {},
   "outputs": [
    {
     "data": {
      "text/plain": [
       "LinearRegression(copy_X=True, fit_intercept=True, n_jobs=1, normalize=False)"
      ]
     },
     "execution_count": 85,
     "metadata": {},
     "output_type": "execute_result"
    }
   ],
   "source": [
    "linreg.fit(X_matrix, y)"
   ]
  },
  {
   "cell_type": "code",
   "execution_count": 86,
   "metadata": {},
   "outputs": [
    {
     "data": {
      "text/plain": [
       "array([ 0.13933485, -8.62147046, -0.08121788])"
      ]
     },
     "execution_count": 86,
     "metadata": {},
     "output_type": "execute_result"
    }
   ],
   "source": [
    "linreg.coef_"
   ]
  },
  {
   "cell_type": "code",
   "execution_count": 87,
   "metadata": {},
   "outputs": [
    {
     "data": {
      "text/plain": [
       "92.451627841645688"
      ]
     },
     "execution_count": 87,
     "metadata": {},
     "output_type": "execute_result"
    }
   ],
   "source": [
    "linreg.intercept_"
   ]
  },
  {
   "cell_type": "code",
   "execution_count": 88,
   "metadata": {},
   "outputs": [
    {
     "data": {
      "text/plain": [
       "array([  9.24516278e+01,   1.39334847e-01,  -8.62147046e+00,\n",
       "        -8.12178776e-02])"
      ]
     },
     "execution_count": 88,
     "metadata": {},
     "output_type": "execute_result"
    }
   ],
   "source": [
    "betas_vec"
   ]
  },
  {
   "cell_type": "markdown",
   "metadata": {},
   "source": [
    "**Calculate predicted $\\hat{y}$ with your $X$ predictor matrix and $\\beta$ coefficients.**"
   ]
  },
  {
   "cell_type": "code",
   "execution_count": 89,
   "metadata": {},
   "outputs": [
    {
     "data": {
      "text/plain": [
       "array([ 354.06248251,  287.24887063,  397.41726196,  268.52715386,\n",
       "        469.87894532,  329.59112619,  279.35225679,  260.7886237 ,\n",
       "        257.73225464,  273.53520929,  327.70682348,  343.06402719,\n",
       "        326.27527226,  669.30604312,  238.55316519,  372.18211686,\n",
       "        254.09517617,  232.47009254,  421.08427169,  478.58409096,\n",
       "        309.21830399,  331.85666518,  289.02447818,  327.03616774,\n",
       "        605.67592658,  214.98247519,  267.38210452,  417.49120685,\n",
       "        370.84977866,  431.9827603 ,  328.19675492,  222.75891471,\n",
       "        336.11749247,  498.2390328 ,  308.35192434,  262.75049731,\n",
       "        237.43629823,  352.75353862,  639.90174497,  355.71531586,\n",
       "        303.81315675,  375.41354193,  411.00887849,  227.61647382,\n",
       "        188.23672489,  310.81593795,  233.3136404 ])"
      ]
     },
     "execution_count": 89,
     "metadata": {},
     "output_type": "execute_result"
    }
   ],
   "source": [
    "# calculate predictions\n",
    "y_pred_sk = linreg.predict(X_matrix)\n",
    "y_pred_sk"
   ]
  },
  {
   "cell_type": "markdown",
   "metadata": {},
   "source": [
    "**Calculate the $R^2$ of the multiple regression model.**"
   ]
  },
  {
   "cell_type": "code",
   "execution_count": 90,
   "metadata": {},
   "outputs": [
    {
     "data": {
      "text/plain": [
       "0.73316399906900243"
      ]
     },
     "execution_count": 90,
     "metadata": {},
     "output_type": "execute_result"
    }
   ],
   "source": [
    "# calculate MLR R2\n",
    "calc_r_squared(y_pred_sk,y)"
   ]
  },
  {
   "cell_type": "markdown",
   "metadata": {},
   "source": [
    "<a id='additional-resources'></a>\n",
    "\n",
    "## Additional resources\n",
    "\n",
    "---\n",
    "\n",
    "[Maximum likelihood estimation](https://onlinecourses.science.psu.edu/stat504/node/28)"
   ]
  }
 ],
 "metadata": {
  "kernelspec": {
   "display_name": "Python 3",
   "language": "python",
   "name": "python3"
  },
  "language_info": {
   "codemirror_mode": {
    "name": "ipython",
    "version": 3
   },
   "file_extension": ".py",
   "mimetype": "text/x-python",
   "name": "python",
   "nbconvert_exporter": "python",
   "pygments_lexer": "ipython3",
   "version": "3.5.2"
  }
 },
 "nbformat": 4,
 "nbformat_minor": 2
}
